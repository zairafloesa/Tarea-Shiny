{
  "nbformat": 4,
  "nbformat_minor": 0,
  "metadata": {
    "colab": {
      "provenance": [],
      "authorship_tag": "ABX9TyN2wMENUeJ4uhoAVZOJFBkZ",
      "include_colab_link": true
    },
    "kernelspec": {
      "name": "python3",
      "display_name": "Python 3"
    },
    "language_info": {
      "name": "python"
    }
  },
  "cells": [
    {
      "cell_type": "markdown",
      "metadata": {
        "id": "view-in-github",
        "colab_type": "text"
      },
      "source": [
        "<a href=\"https://colab.research.google.com/github/zairafloesa/Tarea-Shiny/blob/main/tarea_analisis_con__python.ipynb\" target=\"_parent\"><img src=\"https://colab.research.google.com/assets/colab-badge.svg\" alt=\"Open In Colab\"/></a>"
      ]
    },
    {
      "cell_type": "code",
      "execution_count": 60,
      "metadata": {
        "id": "0cAjrnkmcSW2"
      },
      "outputs": [],
      "source": [
        "import pandas as pd"
      ]
    },
    {
      "cell_type": "code",
      "source": [
        "from pickle import NONE\n",
        "df = pd.read_csv('RNPEDFF.csv', encoding='latin-1')"
      ],
      "metadata": {
        "id": "bcb6zPPIeAyH"
      },
      "execution_count": 61,
      "outputs": []
    },
    {
      "cell_type": "markdown",
      "source": [
        "REGISTRO NACIONAL DE PERSONAS EXTRAVIADAS O DESAPARECIDAS DEL FUERO FEDERAL"
      ],
      "metadata": {
        "id": "qHGqW57GfzGX"
      }
    },
    {
      "cell_type": "markdown",
      "source": [
        "PREGUNTAS A RESOLVER\n",
        "¿QUÉ AÑO TUVO LUGAR MÁS DESAPARCICIONES Y QUÉ AÑO TUVO MENOS?\n",
        "¿QUÉ SEXO ES EL MAYOR REPORTADO EN CASOS DE DESAPACICIONES?"
      ],
      "metadata": {
        "id": "yxSoqISRfve4"
      }
    },
    {
      "cell_type": "code",
      "source": [
        "df.columns"
      ],
      "metadata": {
        "colab": {
          "base_uri": "https://localhost:8080/"
        },
        "id": "XbhW50tmkf9D",
        "outputId": "69359ae7-c4e5-4a3c-fe8a-b8d9965e7eb6"
      },
      "execution_count": 54,
      "outputs": [
        {
          "output_type": "execute_result",
          "data": {
            "text/plain": [
              "Index(['Fecha en que se le vio por ultima vez', 'Nombre(s)',\n",
              "       'Apellido paterno', 'Apellido materno',\n",
              "       'Pais en que se le vio por ultima vez',\n",
              "       'Entidad en que se le vio por ultima vez', 'Clave de entidad',\n",
              "       'Municipio en que se le vio por ultima vez', 'Pais de nacimiento',\n",
              "       'Nacionalidad', 'Sexo', 'Edad', 'Tipo de Lugar',\n",
              "       'Autoridad que recibio la denuncia', 'Fecha de la denuncia',\n",
              "       'Entidad donde se recibio la denuncia'],\n",
              "      dtype='object')"
            ]
          },
          "metadata": {},
          "execution_count": 54
        }
      ]
    },
    {
      "cell_type": "code",
      "source": [
        "df = df.rename(columns={\"Fecha de la denuncia\":\"Fecha\"})\n",
        "df.columns\n",
        "df.Fecha\n",
        "df.head\n"
      ],
      "metadata": {
        "colab": {
          "base_uri": "https://localhost:8080/"
        },
        "id": "rjMDICt4lwlf",
        "outputId": "5d6dc78a-f127-457a-a181-95b3646d511f"
      },
      "execution_count": 62,
      "outputs": [
        {
          "output_type": "execute_result",
          "data": {
            "text/plain": [
              "<bound method NDFrame.head of      Fecha en que se le vio por ultima vez       Nombre(s) Apellido paterno  \\\n",
              "0                               2014-09-26      LUIS ANGEL           ABARCA   \n",
              "1                               2014-09-26            ADAN          ABRAJAN   \n",
              "2                               2014-03-05            RAUL          ACEVEDO   \n",
              "3                               2016-12-20        RODOLFO            ACOSTA   \n",
              "4                               2016-09-25          ELISEO           ACOSTA   \n",
              "...                                    ...             ...              ...   \n",
              "1165                            2012-12-14           PEDRO           ZAVALA   \n",
              "1166                            2017-11-07       ALEJANDRO           ZAVALA   \n",
              "1167                            2015-01-28  CESAR HUMBERTO           ZOMETA   \n",
              "1168                            2011-11-05       ALEJANDRO           ZUÑIGA   \n",
              "1169                            2011-04-05          ISIDRO           ZURITA   \n",
              "\n",
              "     Apellido materno Pais en que se le vio por ultima vez  \\\n",
              "0            CARRILLO                               MÉXICO   \n",
              "1          DE LA CRUZ                               MÉXICO   \n",
              "2             TABOADA                               MÉXICO   \n",
              "3              ACOSTA                               MÉXICO   \n",
              "4            BAUTISTA                               MÉXICO   \n",
              "...               ...                                  ...   \n",
              "1165          RAMIREZ                               MÉXICO   \n",
              "1166            RAMOS                               MÉXICO   \n",
              "1167            PEREZ                               MÉXICO   \n",
              "1168         GONZALEZ                               MÉXICO   \n",
              "1169            BANDA                               MÉXICO   \n",
              "\n",
              "     Entidad en que se le vio por ultima vez  Clave de entidad  \\\n",
              "0                                   GUERRERO                12   \n",
              "1                                   GUERRERO                12   \n",
              "2                                   GUERRERO                12   \n",
              "3                                    DURANGO                10   \n",
              "4                                   GUERRERO                12   \n",
              "...                                      ...               ...   \n",
              "1165                                 JALISCO                14   \n",
              "1166                              TAMAULIPAS                28   \n",
              "1167                        CIUDAD DE MÉXICO                 9   \n",
              "1168         VERACRUZ DE IGNACIO DE LA LLAVE                30   \n",
              "1169                              TAMAULIPAS                28   \n",
              "\n",
              "     Municipio en que se le vio por ultima vez Pais de nacimiento  \\\n",
              "0                   IGUALA DE LA INDEPENDENCIA             MÉXICO   \n",
              "1                   IGUALA DE LA INDEPENDENCIA             MÉXICO   \n",
              "2                   IGUALA DE LA INDEPENDENCIA             MÉXICO   \n",
              "3                                      DURANGO             MÉXICO   \n",
              "4                                     PETATLÁN             MÉXICO   \n",
              "...                                        ...                ...   \n",
              "1165                                  LA BARCA             MÉXICO   \n",
              "1166                              NUEVO LAREDO             MÉXICO   \n",
              "1167                       VENUSTIANO CARRANZA          GUATEMALA   \n",
              "1168                                BANDERILLA             MÉXICO   \n",
              "1169                                  VICTORIA             MÉXICO   \n",
              "\n",
              "     Nacionalidad    Sexo           Edad    Tipo de Lugar  \\\n",
              "0          MÉXICO  HOMBRE             17      VÍA PÚBLICA   \n",
              "1          MÉXICO  HOMBRE             24      VÍA PÚBLICA   \n",
              "2          MÉXICO  HOMBRE             20      DESCONOCIDO   \n",
              "3          MÉXICO  HOMBRE  NO DISPONIBLE  CASA HABITACIÓN   \n",
              "4          MÉXICO  HOMBRE             25      VÍA PÚBLICA   \n",
              "...           ...     ...            ...              ...   \n",
              "1165       MÉXICO  HOMBRE             41      DESCONOCIDO   \n",
              "1166       MÉXICO  HOMBRE             32      VÍA PÚBLICA   \n",
              "1167    GUATEMALA  HOMBRE             52      DESCONOCIDO   \n",
              "1168       MÉXICO  HOMBRE  NO DISPONIBLE      VÍA PÚBLICA   \n",
              "1169       MÉXICO  HOMBRE             32  CASA HABITACIÓN   \n",
              "\n",
              "     Autoridad que recibio la denuncia       Fecha  \\\n",
              "0                         SDHPDSC/OICI  2015-11-09   \n",
              "1                         SDHPDSC/OICI  2015-11-09   \n",
              "2                        SDHPDSC/FEBPD  2017-07-11   \n",
              "3                       SDHPDSC/FEIDDF  2018-03-08   \n",
              "4                         SEIDO/UEIDCS  2017-04-06   \n",
              "...                                ...         ...   \n",
              "1165                     SDHPDSC/UEBPD  2014-03-20   \n",
              "1166           TAMAULIPAS/NUEVO LAREDO  2018-02-19   \n",
              "1167                     SDHPDSC/UIDPM  2015-02-19   \n",
              "1168                     SDHPDSC/FEBPD  2016-06-17   \n",
              "1169                     SDHPDSC/FEBPD  2015-10-12   \n",
              "\n",
              "     Entidad donde se recibio la denuncia  \n",
              "0                        CIUDAD DE MÉXICO  \n",
              "1                        CIUDAD DE MÉXICO  \n",
              "2                        CIUDAD DE MÉXICO  \n",
              "3                        CIUDAD DE MÉXICO  \n",
              "4                        CIUDAD DE MÉXICO  \n",
              "...                                   ...  \n",
              "1165                     CIUDAD DE MÉXICO  \n",
              "1166                           TAMAULIPAS  \n",
              "1167                     CIUDAD DE MÉXICO  \n",
              "1168                     CIUDAD DE MÉXICO  \n",
              "1169                     CIUDAD DE MÉXICO  \n",
              "\n",
              "[1170 rows x 16 columns]>"
            ]
          },
          "metadata": {},
          "execution_count": 62
        }
      ]
    },
    {
      "cell_type": "code",
      "source": [
        "from datetime import date, time, datetime\n",
        "df['Fecha'] = pd.to_datetime(df['Fecha'])\n",
        "fechas_2016 = df[df['Fecha'].dt.year == 2016]\n",
        "print(fechas_2016)"
      ],
      "metadata": {
        "colab": {
          "base_uri": "https://localhost:8080/"
        },
        "id": "ACyDYesNm-19",
        "outputId": "52ae0460-5084-4d00-82d6-eaac0e77c32e"
      },
      "execution_count": 67,
      "outputs": [
        {
          "output_type": "stream",
          "name": "stdout",
          "text": [
            "     Fecha en que se le vio por ultima vez         Nombre(s) Apellido paterno  \\\n",
            "26                              2016-05-23  FRANKLYN ALBERTO           ALONZO   \n",
            "31                              2015-10-12       JESUS DAVID         ALVARADO   \n",
            "48                              2015-09-26     MARCO ANTONIO           ANDRES   \n",
            "53                              2013-05-11            RAFAEL          ANTONIO   \n",
            "67                              2014-11-27      MARIA TERESA          ARTEAGA   \n",
            "...                                    ...               ...              ...   \n",
            "1128                            2014-10-22     DIANA MELISSA             VEGA   \n",
            "1134                            2016-04-24      JARVIN JOSUE        VELAZQUEZ   \n",
            "1143                            2007-09-18              IRMA          VICENTE   \n",
            "1159                            2010-09-06         JUAN LUIS         ZACARIAS   \n",
            "1168                            2011-11-05         ALEJANDRO           ZUÑIGA   \n",
            "\n",
            "     Apellido materno Pais en que se le vio por ultima vez  \\\n",
            "26            BLANDIN                               MÉXICO   \n",
            "31          RODRIGUEZ                               MÉXICO   \n",
            "48             SANTOS                               MÉXICO   \n",
            "53            CABRERA                               MÉXICO   \n",
            "67          CERVANTES                               MÉXICO   \n",
            "...               ...                                  ...   \n",
            "1128            RAMOS                               MÉXICO   \n",
            "1134           LACAYO                               MÉXICO   \n",
            "1143           GARCIA                        NO DISPONIBLE   \n",
            "1159         ZACARIAS                        NO DISPONIBLE   \n",
            "1168         GONZALEZ                               MÉXICO   \n",
            "\n",
            "     Entidad en que se le vio por ultima vez  Clave de entidad  \\\n",
            "26           VERACRUZ DE IGNACIO DE LA LLAVE                30   \n",
            "31           VERACRUZ DE IGNACIO DE LA LLAVE                30   \n",
            "48                                  GUERRERO                12   \n",
            "53                           BAJA CALIFORNIA                 2   \n",
            "67                       MICHOACÁN DE OCAMPO                16   \n",
            "...                                      ...               ...   \n",
            "1128                                 MORELOS                17   \n",
            "1134                    COAHUILA DE ZARAGOZA                 5   \n",
            "1143                           NO DISPONIBLE                99   \n",
            "1159                           NO DISPONIBLE                99   \n",
            "1168         VERACRUZ DE IGNACIO DE LA LLAVE                30   \n",
            "\n",
            "     Municipio en que se le vio por ultima vez Pais de nacimiento  \\\n",
            "26                               COATZACOALCOS           HONDURAS   \n",
            "31                                    VERACRUZ             MÉXICO   \n",
            "48                  IGUALA DE LA INDEPENDENCIA             MÉXICO   \n",
            "53                                    MEXICALI        EL SALVADOR   \n",
            "67                                     MORELIA             MÉXICO   \n",
            "...                                        ...                ...   \n",
            "1128                                CUERNAVACA             MÉXICO   \n",
            "1134                            PIEDRAS NEGRAS           HONDURAS   \n",
            "1143                             NO DISPONIBLE          GUATEMALA   \n",
            "1159                             NO DISPONIBLE          GUATEMALA   \n",
            "1168                                BANDERILLA             MÉXICO   \n",
            "\n",
            "     Nacionalidad    Sexo           Edad Tipo de Lugar  \\\n",
            "26       HONDURAS  HOMBRE  NO DISPONIBLE   DESCONOCIDO   \n",
            "31         MÉXICO  HOMBRE             27   DESCONOCIDO   \n",
            "48         MÉXICO  HOMBRE  NO DISPONIBLE   DESCONOCIDO   \n",
            "53    EL SALVADOR  HOMBRE             57   DESCONOCIDO   \n",
            "67         MÉXICO   MUJER             24   VÍA PÚBLICA   \n",
            "...           ...     ...            ...           ...   \n",
            "1128       MÉXICO   MUJER             20   VÍA PÚBLICA   \n",
            "1134     HONDURAS  HOMBRE             27   DESCONOCIDO   \n",
            "1143    GUATEMALA   MUJER             38   DESCONOCIDO   \n",
            "1159    GUATEMALA  HOMBRE             30   DESCONOCIDO   \n",
            "1168       MÉXICO  HOMBRE  NO DISPONIBLE   VÍA PÚBLICA   \n",
            "\n",
            "     Autoridad que recibio la denuncia      Fecha  \\\n",
            "26                       SDHPDSC/UIDPM 2016-08-01   \n",
            "31                       SDHPDSC/FEBPD 2016-10-21   \n",
            "48                       SDHPDSC/FEBPD 2016-02-18   \n",
            "53                       SDHPDSC/UIDPM 2016-11-30   \n",
            "67                       SDHPDSC/FEBPD 2016-07-28   \n",
            "...                                ...        ...   \n",
            "1128                     SDHPDSC/FEBPD 2016-06-27   \n",
            "1134                     SDHPDSC/UIDPM 2016-11-28   \n",
            "1143                     SDHPDSC/UIDPM 2016-11-30   \n",
            "1159                     SDHPDSC/UIDPM 2016-11-30   \n",
            "1168                     SDHPDSC/FEBPD 2016-06-17   \n",
            "\n",
            "     Entidad donde se recibio la denuncia  \n",
            "26        VERACRUZ DE IGNACIO DE LA LLAVE  \n",
            "31                       CIUDAD DE MÉXICO  \n",
            "48                       CIUDAD DE MÉXICO  \n",
            "53                        BAJA CALIFORNIA  \n",
            "67                       CIUDAD DE MÉXICO  \n",
            "...                                   ...  \n",
            "1128                     CIUDAD DE MÉXICO  \n",
            "1134                     CIUDAD DE MÉXICO  \n",
            "1143                               SONORA  \n",
            "1159                           NUEVO LEÓN  \n",
            "1168                     CIUDAD DE MÉXICO  \n",
            "\n",
            "[180 rows x 16 columns]\n"
          ]
        }
      ]
    }
  ]
}